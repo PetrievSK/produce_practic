{
 "cells": [
  {
   "cell_type": "code",
   "execution_count": 2,
   "metadata": {},
   "outputs": [],
   "source": [
    "import pandas as pd\n",
    "import numpy as np\n",
    "import torch\n",
    "from transformers import AutoTokenizer, AutoModel, AutoModelForPreTraining\n",
    "from model_adapter import FeatureExtractor\n",
    "import sklearn\n",
    "from sklearn.model_selection import train_test_split\n",
    "from sklearn import preprocessing\n"
   ]
  },
  {
   "cell_type": "code",
   "execution_count": 3,
   "metadata": {},
   "outputs": [
    {
     "name": "stderr",
     "output_type": "stream",
     "text": [
      "Some weights of the model checkpoint at cointegrated/rubert-tiny were not used when initializing BertModel: ['cls.predictions.bias', 'cls.seq_relationship.weight', 'cls.predictions.transform.LayerNorm.bias', 'cls.predictions.transform.dense.weight', 'cls.seq_relationship.bias', 'cls.predictions.decoder.bias', 'cls.predictions.decoder.weight', 'cls.predictions.transform.dense.bias', 'cls.predictions.transform.LayerNorm.weight']\n",
      "- This IS expected if you are initializing BertModel from the checkpoint of a model trained on another task or with another architecture (e.g. initializing a BertForSequenceClassification model from a BertForPreTraining model).\n",
      "- This IS NOT expected if you are initializing BertModel from the checkpoint of a model that you expect to be exactly identical (initializing a BertForSequenceClassification model from a BertForSequenceClassification model).\n"
     ]
    },
    {
     "data": {
      "text/plain": [
       "BertModel(\n",
       "  (embeddings): BertEmbeddings(\n",
       "    (word_embeddings): Embedding(29564, 312, padding_idx=0)\n",
       "    (position_embeddings): Embedding(512, 312)\n",
       "    (token_type_embeddings): Embedding(2, 312)\n",
       "    (LayerNorm): LayerNorm((312,), eps=1e-12, elementwise_affine=True)\n",
       "    (dropout): Dropout(p=0.1, inplace=False)\n",
       "  )\n",
       "  (encoder): BertEncoder(\n",
       "    (layer): ModuleList(\n",
       "      (0): BertLayer(\n",
       "        (attention): BertAttention(\n",
       "          (self): BertSelfAttention(\n",
       "            (query): Linear(in_features=312, out_features=312, bias=True)\n",
       "            (key): Linear(in_features=312, out_features=312, bias=True)\n",
       "            (value): Linear(in_features=312, out_features=312, bias=True)\n",
       "            (dropout): Dropout(p=0.1, inplace=False)\n",
       "          )\n",
       "          (output): BertSelfOutput(\n",
       "            (dense): Linear(in_features=312, out_features=312, bias=True)\n",
       "            (LayerNorm): LayerNorm((312,), eps=1e-12, elementwise_affine=True)\n",
       "            (dropout): Dropout(p=0.1, inplace=False)\n",
       "          )\n",
       "        )\n",
       "        (intermediate): BertIntermediate(\n",
       "          (dense): Linear(in_features=312, out_features=600, bias=True)\n",
       "        )\n",
       "        (output): BertOutput(\n",
       "          (dense): Linear(in_features=600, out_features=312, bias=True)\n",
       "          (LayerNorm): LayerNorm((312,), eps=1e-12, elementwise_affine=True)\n",
       "          (dropout): Dropout(p=0.1, inplace=False)\n",
       "        )\n",
       "      )\n",
       "      (1): BertLayer(\n",
       "        (attention): BertAttention(\n",
       "          (self): BertSelfAttention(\n",
       "            (query): Linear(in_features=312, out_features=312, bias=True)\n",
       "            (key): Linear(in_features=312, out_features=312, bias=True)\n",
       "            (value): Linear(in_features=312, out_features=312, bias=True)\n",
       "            (dropout): Dropout(p=0.1, inplace=False)\n",
       "          )\n",
       "          (output): BertSelfOutput(\n",
       "            (dense): Linear(in_features=312, out_features=312, bias=True)\n",
       "            (LayerNorm): LayerNorm((312,), eps=1e-12, elementwise_affine=True)\n",
       "            (dropout): Dropout(p=0.1, inplace=False)\n",
       "          )\n",
       "        )\n",
       "        (intermediate): BertIntermediate(\n",
       "          (dense): Linear(in_features=312, out_features=600, bias=True)\n",
       "        )\n",
       "        (output): BertOutput(\n",
       "          (dense): Linear(in_features=600, out_features=312, bias=True)\n",
       "          (LayerNorm): LayerNorm((312,), eps=1e-12, elementwise_affine=True)\n",
       "          (dropout): Dropout(p=0.1, inplace=False)\n",
       "        )\n",
       "      )\n",
       "      (2): BertLayer(\n",
       "        (attention): BertAttention(\n",
       "          (self): BertSelfAttention(\n",
       "            (query): Linear(in_features=312, out_features=312, bias=True)\n",
       "            (key): Linear(in_features=312, out_features=312, bias=True)\n",
       "            (value): Linear(in_features=312, out_features=312, bias=True)\n",
       "            (dropout): Dropout(p=0.1, inplace=False)\n",
       "          )\n",
       "          (output): BertSelfOutput(\n",
       "            (dense): Linear(in_features=312, out_features=312, bias=True)\n",
       "            (LayerNorm): LayerNorm((312,), eps=1e-12, elementwise_affine=True)\n",
       "            (dropout): Dropout(p=0.1, inplace=False)\n",
       "          )\n",
       "        )\n",
       "        (intermediate): BertIntermediate(\n",
       "          (dense): Linear(in_features=312, out_features=600, bias=True)\n",
       "        )\n",
       "        (output): BertOutput(\n",
       "          (dense): Linear(in_features=600, out_features=312, bias=True)\n",
       "          (LayerNorm): LayerNorm((312,), eps=1e-12, elementwise_affine=True)\n",
       "          (dropout): Dropout(p=0.1, inplace=False)\n",
       "        )\n",
       "      )\n",
       "    )\n",
       "  )\n",
       "  (pooler): BertPooler(\n",
       "    (dense): Linear(in_features=312, out_features=312, bias=True)\n",
       "    (activation): Tanh()\n",
       "  )\n",
       ")"
      ]
     },
     "execution_count": 3,
     "metadata": {},
     "output_type": "execute_result"
    }
   ],
   "source": [
    "tokenizer = AutoTokenizer.from_pretrained(\"cointegrated/rubert-tiny\")\n",
    "model = AutoModel.from_pretrained(\"cointegrated/rubert-tiny\")\n",
    "model.cuda()  # uncomment it if you have a GPU"
   ]
  },
  {
   "cell_type": "code",
   "execution_count": 4,
   "metadata": {},
   "outputs": [],
   "source": [
    "def embed_bert_cls(text, model, tokenizer):\n",
    "    t = tokenizer(text, padding=True, truncation=True, return_tensors='pt')\n",
    "    with torch.no_grad():\n",
    "        model_output = model(**{k: v.to(model.device) for k, v in t.items()})\n",
    "    embeddings = model_output.last_hidden_state[:, 0, :]\n",
    "    embeddings = torch.nn.functional.normalize(embeddings)\n",
    "    return embeddings[0].cpu().numpy().T"
   ]
  },
  {
   "cell_type": "code",
   "execution_count": 5,
   "metadata": {},
   "outputs": [
    {
     "data": {
      "text/plain": [
       "Обслуживание    48208\n",
       "Инцидент        23730\n",
       "Другое          11907\n",
       "Name: task_type, dtype: int64"
      ]
     },
     "execution_count": 5,
     "metadata": {},
     "output_type": "execute_result"
    }
   ],
   "source": [
    "df = pd.read_pickle('data/df_first.pkl').reset_index(drop=True)\n",
    "\n",
    "df.task_type = df.task_type.str.replace('Изменение', 'Другое', regex=True)\n",
    "df.task_type = df.task_type.str.replace('Продажа', 'Другое', regex=True)\n",
    "df.task_type.value_counts()"
   ]
  },
  {
   "cell_type": "code",
   "execution_count": 6,
   "metadata": {},
   "outputs": [],
   "source": [
    "le = preprocessing.LabelEncoder()\n",
    "df[\"task_type_int64\"] = le.fit_transform(df[\"task_type\"])\n",
    "df['embedings'] = df.description_merge.apply(embed_bert_cls, model = model, tokenizer = tokenizer)"
   ]
  },
  {
   "cell_type": "code",
   "execution_count": 7,
   "metadata": {},
   "outputs": [
    {
     "data": {
      "text/plain": [
       "array(['Другое', 'Обслуживание', 'Инцидент'], dtype=object)"
      ]
     },
     "execution_count": 7,
     "metadata": {},
     "output_type": "execute_result"
    }
   ],
   "source": [
    "df[\"task_type\"].unique()"
   ]
  },
  {
   "cell_type": "code",
   "execution_count": 8,
   "metadata": {},
   "outputs": [],
   "source": [
    "x = np.stack(df['embedings'].values)\n",
    "y = df[\"task_type_int64\"]\n",
    "x_train, x_test, y_train, y_test = train_test_split(x, y, test_size=0.3, stratify = y)"
   ]
  },
  {
   "cell_type": "code",
   "execution_count": 9,
   "metadata": {},
   "outputs": [
    {
     "data": {
      "text/plain": [
       "Обслуживание    48208\n",
       "Инцидент        23730\n",
       "Другое          11907\n",
       "Name: task_type, dtype: int64"
      ]
     },
     "execution_count": 9,
     "metadata": {},
     "output_type": "execute_result"
    }
   ],
   "source": [
    "df[\"task_type\"].value_counts()"
   ]
  },
  {
   "cell_type": "code",
   "execution_count": 10,
   "metadata": {},
   "outputs": [],
   "source": [
    "import lightgbm as lgb\n",
    "\n",
    "num_boost_round = 100\n",
    "params = {\n",
    "    \"device\" : \"gpu\",\n",
    "    'objective': 'multiclass',\n",
    "    'metric': ['multi_logloss'],\n",
    "    'num_class': 3,\n",
    "    'task': 'train',\n",
    "    'num_leaves': 2,\n",
    "    'learning_rate': 0.01,\n",
    "    'num_iterations': 10000,\n",
    "    'num_threads': 4,\n",
    "    'verbose': 1\n",
    "}\n",
    "\n",
    "train_set = lgb.Dataset(x_train, label=y_train)\n",
    "test_set = lgb.Dataset(x_test, label=y_test)"
   ]
  },
  {
   "cell_type": "code",
   "execution_count": 11,
   "metadata": {},
   "outputs": [
    {
     "name": "stderr",
     "output_type": "stream",
     "text": [
      "/home/tonko22/.virtualenvs/py37/lib/python3.7/site-packages/lightgbm/engine.py:153: UserWarning: Found `num_iterations` in params. Will use it instead of argument\n",
      "  _log_warning(f\"Found `{alias}` in params. Will use it instead of argument\")\n"
     ]
    },
    {
     "name": "stdout",
     "output_type": "stream",
     "text": [
      "[LightGBM] [Info] This is the GPU trainer!!\n",
      "[LightGBM] [Info] Total Bins 79560\n",
      "[LightGBM] [Info] Number of data points in the train set: 58691, number of used features: 312\n",
      "[LightGBM] [Info] Using GPU Device: GeForce GTX 1060 6GB, Vendor: NVIDIA Corporation\n",
      "[LightGBM] [Info] Compiling OpenCL Kernel with 256 bins...\n",
      "[LightGBM] [Info] GPU programs have been built\n",
      "[LightGBM] [Info] Size of histogram bin entry: 8\n",
      "[LightGBM] [Info] 312 dense feature groups (17.46 MB) transferred to GPU in 0.007067 secs. 0 sparse feature groups\n",
      "[LightGBM] [Info] Start training from score -1.951823\n",
      "[LightGBM] [Info] Start training from score -1.262221\n",
      "[LightGBM] [Info] Start training from score -0.553454\n",
      "[1000]\tvalid_0's multi_logloss: 0.737165\n",
      "[2000]\tvalid_0's multi_logloss: 0.709615\n",
      "[3000]\tvalid_0's multi_logloss: 0.696632\n",
      "[4000]\tvalid_0's multi_logloss: 0.688821\n",
      "[5000]\tvalid_0's multi_logloss: 0.683409\n",
      "[6000]\tvalid_0's multi_logloss: 0.679351\n",
      "[7000]\tvalid_0's multi_logloss: 0.676244\n",
      "[8000]\tvalid_0's multi_logloss: 0.673713\n",
      "[9000]\tvalid_0's multi_logloss: 0.671558\n",
      "[10000]\tvalid_0's multi_logloss: 0.669683\n"
     ]
    }
   ],
   "source": [
    "lgb_model = lgb.train(\n",
    "    params=params,\n",
    "    train_set=train_set,\n",
    "    num_boost_round=num_boost_round,\n",
    "    valid_sets=[test_set],\n",
    "    verbose_eval=1000\n",
    ")\n"
   ]
  },
  {
   "cell_type": "code",
   "execution_count": 12,
   "metadata": {},
   "outputs": [
    {
     "data": {
      "text/plain": [
       "0.5760647268220033"
      ]
     },
     "execution_count": 12,
     "metadata": {},
     "output_type": "execute_result"
    }
   ],
   "source": [
    "from sklearn.metrics import confusion_matrix, f1_score, precision_score, recall_score\n",
    "\n",
    "lgb_preds = lgb_model.predict(x_test)\n",
    "lgb_pred_labels = np.argmax(lgb_preds, axis=1)\n",
    "y_trues = y_test\n",
    "f1_macro = f1_score(y_trues, lgb_pred_labels, average=\"macro\")\n",
    "f1_macro"
   ]
  },
  {
   "cell_type": "code",
   "execution_count": 182,
   "metadata": {},
   "outputs": [
    {
     "data": {
      "image/png": "[encoded data removed]",
      "text/plain": [
       "<matplotlib.figure.Figure at 0x7f4c270c4e48>"
      ]
     },
     "metadata": {},
     "output_type": "display_data"
    }
   ],
   "source": [
    "from plot_utils import plot_confusion_matrix\n",
    "\n",
    "label_names = list(df[\"task_type\"].unique())\n",
    "\n",
    "plot_confusion_matrix(list(map(int, y_trues)), lgb_pred_labels, sorted(label_names), normalize=True)"
   ]
  },
  {
   "cell_type": "code",
   "execution_count": 13,
   "metadata": {},
   "outputs": [
    {
     "name": "stdout",
     "output_type": "stream",
     "text": [
      "[1]\tvalid_0's multi_logloss: 1.08726\n",
      "[2]\tvalid_0's multi_logloss: 1.07653\n",
      "[3]\tvalid_0's multi_logloss: 1.06643\n",
      "[4]\tvalid_0's multi_logloss: 1.05687\n",
      "[5]\tvalid_0's multi_logloss: 1.04763\n",
      "[6]\tvalid_0's multi_logloss: 1.03899\n",
      "[7]\tvalid_0's multi_logloss: 1.03071\n",
      "[8]\tvalid_0's multi_logloss: 1.02278\n",
      "[9]\tvalid_0's multi_logloss: 1.01509\n",
      "[10]\tvalid_0's multi_logloss: 1.00767\n",
      "[11]\tvalid_0's multi_logloss: 1.00061\n",
      "[12]\tvalid_0's multi_logloss: 0.993861\n",
      "[13]\tvalid_0's multi_logloss: 0.987302\n",
      "[14]\tvalid_0's multi_logloss: 0.981273\n",
      "[15]\tvalid_0's multi_logloss: 0.975262\n",
      "[16]\tvalid_0's multi_logloss: 0.969711\n",
      "[17]\tvalid_0's multi_logloss: 0.964242\n",
      "[18]\tvalid_0's multi_logloss: 0.95892\n",
      "[19]\tvalid_0's multi_logloss: 0.953993\n",
      "[20]\tvalid_0's multi_logloss: 0.949197\n",
      "[21]\tvalid_0's multi_logloss: 0.944572\n",
      "[22]\tvalid_0's multi_logloss: 0.940063\n",
      "[23]\tvalid_0's multi_logloss: 0.935882\n",
      "[24]\tvalid_0's multi_logloss: 0.931702\n",
      "[25]\tvalid_0's multi_logloss: 0.927824\n",
      "[26]\tvalid_0's multi_logloss: 0.924017\n",
      "[27]\tvalid_0's multi_logloss: 0.920286\n",
      "[28]\tvalid_0's multi_logloss: 0.916706\n",
      "[29]\tvalid_0's multi_logloss: 0.91315\n",
      "[30]\tvalid_0's multi_logloss: 0.909733\n",
      "[31]\tvalid_0's multi_logloss: 0.90642\n",
      "[32]\tvalid_0's multi_logloss: 0.903298\n",
      "[33]\tvalid_0's multi_logloss: 0.900318\n",
      "[34]\tvalid_0's multi_logloss: 0.89736\n",
      "[35]\tvalid_0's multi_logloss: 0.89442\n",
      "[36]\tvalid_0's multi_logloss: 0.891651\n",
      "[37]\tvalid_0's multi_logloss: 0.888841\n",
      "[38]\tvalid_0's multi_logloss: 0.886246\n",
      "[39]\tvalid_0's multi_logloss: 0.883667\n",
      "[40]\tvalid_0's multi_logloss: 0.880969\n",
      "[41]\tvalid_0's multi_logloss: 0.878665\n",
      "[42]\tvalid_0's multi_logloss: 0.876278\n",
      "[43]\tvalid_0's multi_logloss: 0.873893\n",
      "[44]\tvalid_0's multi_logloss: 0.871724\n",
      "[45]\tvalid_0's multi_logloss: 0.869599\n",
      "[46]\tvalid_0's multi_logloss: 0.867419\n",
      "[47]\tvalid_0's multi_logloss: 0.865385\n",
      "[48]\tvalid_0's multi_logloss: 0.863433\n",
      "[49]\tvalid_0's multi_logloss: 0.861524\n",
      "[50]\tvalid_0's multi_logloss: 0.859641\n",
      "[51]\tvalid_0's multi_logloss: 0.857847\n",
      "[52]\tvalid_0's multi_logloss: 0.856044\n",
      "[53]\tvalid_0's multi_logloss: 0.854325\n",
      "[54]\tvalid_0's multi_logloss: 0.852635\n",
      "[55]\tvalid_0's multi_logloss: 0.850956\n",
      "[56]\tvalid_0's multi_logloss: 0.849291\n",
      "[57]\tvalid_0's multi_logloss: 0.847761\n",
      "[58]\tvalid_0's multi_logloss: 0.846222\n",
      "[59]\tvalid_0's multi_logloss: 0.844609\n",
      "[60]\tvalid_0's multi_logloss: 0.843122\n",
      "[61]\tvalid_0's multi_logloss: 0.841664\n",
      "[62]\tvalid_0's multi_logloss: 0.840167\n",
      "[63]\tvalid_0's multi_logloss: 0.838806\n",
      "[64]\tvalid_0's multi_logloss: 0.837317\n",
      "[65]\tvalid_0's multi_logloss: 0.836\n",
      "[66]\tvalid_0's multi_logloss: 0.834671\n",
      "[67]\tvalid_0's multi_logloss: 0.833493\n",
      "[68]\tvalid_0's multi_logloss: 0.832311\n",
      "[69]\tvalid_0's multi_logloss: 0.831066\n",
      "[70]\tvalid_0's multi_logloss: 0.829807\n",
      "[71]\tvalid_0's multi_logloss: 0.828682\n",
      "[72]\tvalid_0's multi_logloss: 0.827612\n",
      "[73]\tvalid_0's multi_logloss: 0.826478\n",
      "[74]\tvalid_0's multi_logloss: 0.82543\n",
      "[75]\tvalid_0's multi_logloss: 0.824351\n",
      "[76]\tvalid_0's multi_logloss: 0.823336\n",
      "[77]\tvalid_0's multi_logloss: 0.822276\n",
      "[78]\tvalid_0's multi_logloss: 0.821235\n",
      "[79]\tvalid_0's multi_logloss: 0.820195\n",
      "[80]\tvalid_0's multi_logloss: 0.819216\n",
      "[81]\tvalid_0's multi_logloss: 0.818289\n",
      "[82]\tvalid_0's multi_logloss: 0.817375\n",
      "[83]\tvalid_0's multi_logloss: 0.816468\n",
      "[84]\tvalid_0's multi_logloss: 0.815598\n",
      "[85]\tvalid_0's multi_logloss: 0.814599\n",
      "[86]\tvalid_0's multi_logloss: 0.813648\n",
      "[87]\tvalid_0's multi_logloss: 0.812718\n",
      "[88]\tvalid_0's multi_logloss: 0.811829\n",
      "[89]\tvalid_0's multi_logloss: 0.810857\n",
      "[90]\tvalid_0's multi_logloss: 0.810002\n",
      "[91]\tvalid_0's multi_logloss: 0.809156\n",
      "[92]\tvalid_0's multi_logloss: 0.808329\n",
      "[93]\tvalid_0's multi_logloss: 0.807519\n",
      "[94]\tvalid_0's multi_logloss: 0.806753\n",
      "[95]\tvalid_0's multi_logloss: 0.806032\n",
      "[96]\tvalid_0's multi_logloss: 0.805212\n",
      "[97]\tvalid_0's multi_logloss: 0.804463\n",
      "[98]\tvalid_0's multi_logloss: 0.803704\n",
      "[99]\tvalid_0's multi_logloss: 0.80293\n",
      "[100]\tvalid_0's multi_logloss: 0.802222\n",
      "[101]\tvalid_0's multi_logloss: 0.801484\n",
      "[102]\tvalid_0's multi_logloss: 0.800742\n",
      "[103]\tvalid_0's multi_logloss: 0.800059\n",
      "[104]\tvalid_0's multi_logloss: 0.79939\n",
      "[105]\tvalid_0's multi_logloss: 0.798669\n",
      "[106]\tvalid_0's multi_logloss: 0.798004\n",
      "[107]\tvalid_0's multi_logloss: 0.797377\n",
      "[108]\tvalid_0's multi_logloss: 0.796703\n",
      "[109]\tvalid_0's multi_logloss: 0.795982\n",
      "[110]\tvalid_0's multi_logloss: 0.79529\n",
      "[111]\tvalid_0's multi_logloss: 0.794695\n",
      "[112]\tvalid_0's multi_logloss: 0.794064\n",
      "[113]\tvalid_0's multi_logloss: 0.793485\n",
      "[114]\tvalid_0's multi_logloss: 0.792879\n",
      "[115]\tvalid_0's multi_logloss: 0.792291\n",
      "[116]\tvalid_0's multi_logloss: 0.79167\n",
      "[117]\tvalid_0's multi_logloss: 0.791079\n",
      "[118]\tvalid_0's multi_logloss: 0.790438\n",
      "[119]\tvalid_0's multi_logloss: 0.789883\n",
      "[120]\tvalid_0's multi_logloss: 0.789393\n",
      "[121]\tvalid_0's multi_logloss: 0.788837\n",
      "[122]\tvalid_0's multi_logloss: 0.788301\n",
      "[123]\tvalid_0's multi_logloss: 0.787737\n",
      "[124]\tvalid_0's multi_logloss: 0.787181\n",
      "[125]\tvalid_0's multi_logloss: 0.786719\n",
      "[126]\tvalid_0's multi_logloss: 0.786203\n",
      "[127]\tvalid_0's multi_logloss: 0.785659\n",
      "[128]\tvalid_0's multi_logloss: 0.785143\n",
      "[129]\tvalid_0's multi_logloss: 0.784656\n",
      "[130]\tvalid_0's multi_logloss: 0.784186\n",
      "[131]\tvalid_0's multi_logloss: 0.783713\n",
      "[132]\tvalid_0's multi_logloss: 0.783205\n",
      "[133]\tvalid_0's multi_logloss: 0.782685\n",
      "[134]\tvalid_0's multi_logloss: 0.782259\n",
      "[135]\tvalid_0's multi_logloss: 0.781775\n",
      "[136]\tvalid_0's multi_logloss: 0.781348\n",
      "[137]\tvalid_0's multi_logloss: 0.780936\n",
      "[138]\tvalid_0's multi_logloss: 0.780483\n",
      "[139]\tvalid_0's multi_logloss: 0.779979\n",
      "[140]\tvalid_0's multi_logloss: 0.779524\n",
      "[141]\tvalid_0's multi_logloss: 0.779031\n",
      "[142]\tvalid_0's multi_logloss: 0.778556\n",
      "[143]\tvalid_0's multi_logloss: 0.778208\n",
      "[144]\tvalid_0's multi_logloss: 0.777815\n",
      "[145]\tvalid_0's multi_logloss: 0.777388\n",
      "[146]\tvalid_0's multi_logloss: 0.77702\n",
      "[147]\tvalid_0's multi_logloss: 0.776575\n",
      "[148]\tvalid_0's multi_logloss: 0.776138\n",
      "[149]\tvalid_0's multi_logloss: 0.775782\n",
      "[150]\tvalid_0's multi_logloss: 0.775362\n",
      "[151]\tvalid_0's multi_logloss: 0.774995\n",
      "[152]\tvalid_0's multi_logloss: 0.774604\n",
      "[153]\tvalid_0's multi_logloss: 0.774248\n",
      "[154]\tvalid_0's multi_logloss: 0.773823\n",
      "[155]\tvalid_0's multi_logloss: 0.773472\n",
      "[156]\tvalid_0's multi_logloss: 0.773075\n",
      "[157]\tvalid_0's multi_logloss: 0.772742\n",
      "[158]\tvalid_0's multi_logloss: 0.772381\n",
      "[159]\tvalid_0's multi_logloss: 0.771994\n",
      "[160]\tvalid_0's multi_logloss: 0.771643\n",
      "[161]\tvalid_0's multi_logloss: 0.771318\n",
      "[162]\tvalid_0's multi_logloss: 0.770982\n",
      "[163]\tvalid_0's multi_logloss: 0.770592\n",
      "[164]\tvalid_0's multi_logloss: 0.770238\n",
      "[165]\tvalid_0's multi_logloss: 0.769919\n",
      "[166]\tvalid_0's multi_logloss: 0.769592\n",
      "[167]\tvalid_0's multi_logloss: 0.76924\n",
      "[168]\tvalid_0's multi_logloss: 0.768891\n",
      "[169]\tvalid_0's multi_logloss: 0.768491\n",
      "[170]\tvalid_0's multi_logloss: 0.768184\n",
      "[171]\tvalid_0's multi_logloss: 0.767849\n",
      "[172]\tvalid_0's multi_logloss: 0.767499\n",
      "[173]\tvalid_0's multi_logloss: 0.767166\n",
      "[174]\tvalid_0's multi_logloss: 0.766837\n",
      "[175]\tvalid_0's multi_logloss: 0.766507\n",
      "[176]\tvalid_0's multi_logloss: 0.76621\n",
      "[177]\tvalid_0's multi_logloss: 0.765903\n",
      "[178]\tvalid_0's multi_logloss: 0.765572\n",
      "[179]\tvalid_0's multi_logloss: 0.765284\n",
      "[180]\tvalid_0's multi_logloss: 0.764923\n",
      "[181]\tvalid_0's multi_logloss: 0.764673\n",
      "[182]\tvalid_0's multi_logloss: 0.764391\n",
      "[183]\tvalid_0's multi_logloss: 0.764069\n",
      "[184]\tvalid_0's multi_logloss: 0.763754\n",
      "[185]\tvalid_0's multi_logloss: 0.763492\n",
      "[186]\tvalid_0's multi_logloss: 0.76313\n",
      "[187]\tvalid_0's multi_logloss: 0.762824\n",
      "[188]\tvalid_0's multi_logloss: 0.762551\n",
      "[189]\tvalid_0's multi_logloss: 0.762234\n",
      "[190]\tvalid_0's multi_logloss: 0.761972\n",
      "[191]\tvalid_0's multi_logloss: 0.761671\n",
      "[192]\tvalid_0's multi_logloss: 0.761393\n",
      "[193]\tvalid_0's multi_logloss: 0.761142\n",
      "[194]\tvalid_0's multi_logloss: 0.760894\n",
      "[195]\tvalid_0's multi_logloss: 0.7606\n",
      "[196]\tvalid_0's multi_logloss: 0.760289\n",
      "[197]\tvalid_0's multi_logloss: 0.760064\n",
      "[198]\tvalid_0's multi_logloss: 0.759781\n",
      "[199]\tvalid_0's multi_logloss: 0.759497\n",
      "[200]\tvalid_0's multi_logloss: 0.75922\n",
      "[201]\tvalid_0's multi_logloss: 0.758953\n",
      "[202]\tvalid_0's multi_logloss: 0.758722\n",
      "[203]\tvalid_0's multi_logloss: 0.758467\n",
      "[204]\tvalid_0's multi_logloss: 0.758238\n",
      "[205]\tvalid_0's multi_logloss: 0.758001\n",
      "[206]\tvalid_0's multi_logloss: 0.757762\n",
      "[207]\tvalid_0's multi_logloss: 0.757507\n",
      "[208]\tvalid_0's multi_logloss: 0.757327\n",
      "[209]\tvalid_0's multi_logloss: 0.757098\n",
      "[210]\tvalid_0's multi_logloss: 0.756837\n",
      "[211]\tvalid_0's multi_logloss: 0.756576\n",
      "[212]\tvalid_0's multi_logloss: 0.756332\n",
      "[213]\tvalid_0's multi_logloss: 0.756099\n",
      "[214]\tvalid_0's multi_logloss: 0.755863\n",
      "[215]\tvalid_0's multi_logloss: 0.755606\n",
      "[216]\tvalid_0's multi_logloss: 0.755418\n",
      "[217]\tvalid_0's multi_logloss: 0.755211\n",
      "[218]\tvalid_0's multi_logloss: 0.754988\n",
      "[219]\tvalid_0's multi_logloss: 0.754803\n",
      "[220]\tvalid_0's multi_logloss: 0.754624\n",
      "[221]\tvalid_0's multi_logloss: 0.754381\n",
      "[222]\tvalid_0's multi_logloss: 0.754158\n",
      "[223]\tvalid_0's multi_logloss: 0.753945\n",
      "[224]\tvalid_0's multi_logloss: 0.753721\n",
      "[225]\tvalid_0's multi_logloss: 0.753435\n",
      "[226]\tvalid_0's multi_logloss: 0.753166\n",
      "[227]\tvalid_0's multi_logloss: 0.752975\n",
      "[228]\tvalid_0's multi_logloss: 0.752767\n",
      "[229]\tvalid_0's multi_logloss: 0.752591\n",
      "[230]\tvalid_0's multi_logloss: 0.752382\n",
      "[231]\tvalid_0's multi_logloss: 0.752131\n",
      "[232]\tvalid_0's multi_logloss: 0.751965\n",
      "[233]\tvalid_0's multi_logloss: 0.751823\n",
      "[234]\tvalid_0's multi_logloss: 0.751611\n",
      "[235]\tvalid_0's multi_logloss: 0.751368\n",
      "[236]\tvalid_0's multi_logloss: 0.751209\n",
      "[237]\tvalid_0's multi_logloss: 0.75104\n",
      "[238]\tvalid_0's multi_logloss: 0.750869\n",
      "[239]\tvalid_0's multi_logloss: 0.750631\n",
      "[240]\tvalid_0's multi_logloss: 0.750391\n",
      "[241]\tvalid_0's multi_logloss: 0.750232\n",
      "[242]\tvalid_0's multi_logloss: 0.750016\n",
      "[243]\tvalid_0's multi_logloss: 0.749911\n",
      "[244]\tvalid_0's multi_logloss: 0.749731\n",
      "[245]\tvalid_0's multi_logloss: 0.749535\n",
      "[246]\tvalid_0's multi_logloss: 0.74932\n",
      "[247]\tvalid_0's multi_logloss: 0.749132\n",
      "[248]\tvalid_0's multi_logloss: 0.748927\n",
      "[249]\tvalid_0's multi_logloss: 0.748731\n",
      "[250]\tvalid_0's multi_logloss: 0.748558\n",
      "[251]\tvalid_0's multi_logloss: 0.748431\n",
      "[252]\tvalid_0's multi_logloss: 0.748198\n",
      "[253]\tvalid_0's multi_logloss: 0.747989\n",
      "[254]\tvalid_0's multi_logloss: 0.747806\n",
      "[255]\tvalid_0's multi_logloss: 0.747624\n",
      "[256]\tvalid_0's multi_logloss: 0.747449\n",
      "[257]\tvalid_0's multi_logloss: 0.747264\n",
      "[258]\tvalid_0's multi_logloss: 0.747077\n",
      "[259]\tvalid_0's multi_logloss: 0.746901\n",
      "[260]\tvalid_0's multi_logloss: 0.746751\n",
      "[261]\tvalid_0's multi_logloss: 0.746597\n",
      "[262]\tvalid_0's multi_logloss: 0.74646\n",
      "[263]\tvalid_0's multi_logloss: 0.746288\n",
      "[264]\tvalid_0's multi_logloss: 0.746157\n",
      "[265]\tvalid_0's multi_logloss: 0.745967\n",
      "[266]\tvalid_0's multi_logloss: 0.745791\n",
      "[267]\tvalid_0's multi_logloss: 0.745639\n",
      "[268]\tvalid_0's multi_logloss: 0.745408\n",
      "[269]\tvalid_0's multi_logloss: 0.745324\n",
      "[270]\tvalid_0's multi_logloss: 0.745199\n",
      "[271]\tvalid_0's multi_logloss: 0.745029\n",
      "[272]\tvalid_0's multi_logloss: 0.744877\n",
      "[273]\tvalid_0's multi_logloss: 0.744727\n",
      "[274]\tvalid_0's multi_logloss: 0.744548\n",
      "[275]\tvalid_0's multi_logloss: 0.744375\n",
      "[276]\tvalid_0's multi_logloss: 0.744216\n",
      "[277]\tvalid_0's multi_logloss: 0.744045\n",
      "[278]\tvalid_0's multi_logloss: 0.743865\n",
      "[279]\tvalid_0's multi_logloss: 0.74368\n",
      "[280]\tvalid_0's multi_logloss: 0.743528\n",
      "[281]\tvalid_0's multi_logloss: 0.743363\n",
      "[282]\tvalid_0's multi_logloss: 0.743206\n",
      "[283]\tvalid_0's multi_logloss: 0.743007\n",
      "[284]\tvalid_0's multi_logloss: 0.742823\n",
      "[285]\tvalid_0's multi_logloss: 0.742697\n",
      "[286]\tvalid_0's multi_logloss: 0.742515\n",
      "[287]\tvalid_0's multi_logloss: 0.742353\n",
      "[288]\tvalid_0's multi_logloss: 0.742173\n",
      "[289]\tvalid_0's multi_logloss: 0.742013\n",
      "[290]\tvalid_0's multi_logloss: 0.741905\n",
      "[291]\tvalid_0's multi_logloss: 0.741746\n",
      "[292]\tvalid_0's multi_logloss: 0.741559\n",
      "[293]\tvalid_0's multi_logloss: 0.74143\n",
      "[294]\tvalid_0's multi_logloss: 0.741309\n",
      "[295]\tvalid_0's multi_logloss: 0.741202\n",
      "[296]\tvalid_0's multi_logloss: 0.741087\n",
      "[297]\tvalid_0's multi_logloss: 0.740956\n",
      "[298]\tvalid_0's multi_logloss: 0.740815\n",
      "[299]\tvalid_0's multi_logloss: 0.740694\n",
      "[300]\tvalid_0's multi_logloss: 0.740539\n",
      "[301]\tvalid_0's multi_logloss: 0.740371\n",
      "[302]\tvalid_0's multi_logloss: 0.740194\n",
      "[303]\tvalid_0's multi_logloss: 0.740066\n",
      "[304]\tvalid_0's multi_logloss: 0.739935\n",
      "[305]\tvalid_0's multi_logloss: 0.739846\n",
      "[306]\tvalid_0's multi_logloss: 0.739728\n",
      "[307]\tvalid_0's multi_logloss: 0.739606\n",
      "[308]\tvalid_0's multi_logloss: 0.73945\n",
      "[309]\tvalid_0's multi_logloss: 0.739301\n",
      "[310]\tvalid_0's multi_logloss: 0.739186\n",
      "[311]\tvalid_0's multi_logloss: 0.739029\n",
      "[312]\tvalid_0's multi_logloss: 0.73891\n",
      "[313]\tvalid_0's multi_logloss: 0.738769\n",
      "[314]\tvalid_0's multi_logloss: 0.738611\n",
      "[315]\tvalid_0's multi_logloss: 0.738482\n",
      "[316]\tvalid_0's multi_logloss: 0.738297\n",
      "[317]\tvalid_0's multi_logloss: 0.738136\n",
      "[318]\tvalid_0's multi_logloss: 0.738041\n",
      "[319]\tvalid_0's multi_logloss: 0.737935\n",
      "[320]\tvalid_0's multi_logloss: 0.737778\n",
      "[321]\tvalid_0's multi_logloss: 0.737612\n",
      "[322]\tvalid_0's multi_logloss: 0.737513\n",
      "[323]\tvalid_0's multi_logloss: 0.737375\n",
      "[324]\tvalid_0's multi_logloss: 0.737232\n",
      "[325]\tvalid_0's multi_logloss: 0.737108\n",
      "[326]\tvalid_0's multi_logloss: 0.736907\n",
      "[327]\tvalid_0's multi_logloss: 0.736812\n",
      "[328]\tvalid_0's multi_logloss: 0.73665\n",
      "[329]\tvalid_0's multi_logloss: 0.736503\n",
      "[330]\tvalid_0's multi_logloss: 0.736357\n",
      "[331]\tvalid_0's multi_logloss: 0.736203\n",
      "[332]\tvalid_0's multi_logloss: 0.736083\n",
      "[333]\tvalid_0's multi_logloss: 0.735936\n",
      "[334]\tvalid_0's multi_logloss: 0.735794\n",
      "[335]\tvalid_0's multi_logloss: 0.73568\n",
      "[336]\tvalid_0's multi_logloss: 0.735559\n",
      "[337]\tvalid_0's multi_logloss: 0.735483\n",
      "[338]\tvalid_0's multi_logloss: 0.735362\n",
      "[339]\tvalid_0's multi_logloss: 0.73523\n",
      "[340]\tvalid_0's multi_logloss: 0.735123\n",
      "[341]\tvalid_0's multi_logloss: 0.73497\n",
      "[342]\tvalid_0's multi_logloss: 0.734875\n",
      "[343]\tvalid_0's multi_logloss: 0.734721\n",
      "[344]\tvalid_0's multi_logloss: 0.734603\n",
      "[345]\tvalid_0's multi_logloss: 0.73446\n",
      "[346]\tvalid_0's multi_logloss: 0.734321\n",
      "[347]\tvalid_0's multi_logloss: 0.734199\n",
      "[348]\tvalid_0's multi_logloss: 0.734095\n",
      "[349]\tvalid_0's multi_logloss: 0.733964\n",
      "[350]\tvalid_0's multi_logloss: 0.733838\n",
      "[351]\tvalid_0's multi_logloss: 0.733728\n",
      "[352]\tvalid_0's multi_logloss: 0.733632\n",
      "[353]\tvalid_0's multi_logloss: 0.733558\n",
      "[354]\tvalid_0's multi_logloss: 0.733437\n",
      "[355]\tvalid_0's multi_logloss: 0.733321\n",
      "[356]\tvalid_0's multi_logloss: 0.733182\n",
      "[357]\tvalid_0's multi_logloss: 0.733088\n",
      "[358]\tvalid_0's multi_logloss: 0.732964\n",
      "[359]\tvalid_0's multi_logloss: 0.732861\n",
      "[360]\tvalid_0's multi_logloss: 0.73272\n",
      "[361]\tvalid_0's multi_logloss: 0.732593\n",
      "[362]\tvalid_0's multi_logloss: 0.732517\n",
      "[363]\tvalid_0's multi_logloss: 0.732382\n",
      "[364]\tvalid_0's multi_logloss: 0.73224\n",
      "[365]\tvalid_0's multi_logloss: 0.732137\n",
      "[366]\tvalid_0's multi_logloss: 0.732021\n",
      "[367]\tvalid_0's multi_logloss: 0.731917\n",
      "[368]\tvalid_0's multi_logloss: 0.731814\n",
      "[369]\tvalid_0's multi_logloss: 0.731712\n",
      "[370]\tvalid_0's multi_logloss: 0.731619\n",
      "[371]\tvalid_0's multi_logloss: 0.731512\n",
      "[372]\tvalid_0's multi_logloss: 0.731397\n",
      "[373]\tvalid_0's multi_logloss: 0.731297\n",
      "[374]\tvalid_0's multi_logloss: 0.731196\n",
      "[375]\tvalid_0's multi_logloss: 0.731067\n",
      "[376]\tvalid_0's multi_logloss: 0.73094\n",
      "[377]\tvalid_0's multi_logloss: 0.730834\n",
      "[378]\tvalid_0's multi_logloss: 0.73073\n",
      "[379]\tvalid_0's multi_logloss: 0.73063\n",
      "[380]\tvalid_0's multi_logloss: 0.730522\n",
      "[381]\tvalid_0's multi_logloss: 0.730433\n",
      "[382]\tvalid_0's multi_logloss: 0.730335\n",
      "[383]\tvalid_0's multi_logloss: 0.730208\n",
      "[384]\tvalid_0's multi_logloss: 0.730057\n",
      "[385]\tvalid_0's multi_logloss: 0.729945\n",
      "[386]\tvalid_0's multi_logloss: 0.729809\n",
      "[387]\tvalid_0's multi_logloss: 0.729679\n",
      "[388]\tvalid_0's multi_logloss: 0.729566\n",
      "[389]\tvalid_0's multi_logloss: 0.729447\n",
      "[390]\tvalid_0's multi_logloss: 0.72931\n",
      "[391]\tvalid_0's multi_logloss: 0.729209\n",
      "[392]\tvalid_0's multi_logloss: 0.729125\n",
      "[393]\tvalid_0's multi_logloss: 0.728991\n",
      "[394]\tvalid_0's multi_logloss: 0.728853\n",
      "[395]\tvalid_0's multi_logloss: 0.728734\n",
      "[396]\tvalid_0's multi_logloss: 0.728641\n",
      "[397]\tvalid_0's multi_logloss: 0.728535\n",
      "[398]\tvalid_0's multi_logloss: 0.728423\n",
      "[399]\tvalid_0's multi_logloss: 0.728298\n",
      "[400]\tvalid_0's multi_logloss: 0.728172\n",
      "[401]\tvalid_0's multi_logloss: 0.728069\n",
      "[402]\tvalid_0's multi_logloss: 0.727969\n",
      "[403]\tvalid_0's multi_logloss: 0.727843\n",
      "[404]\tvalid_0's multi_logloss: 0.727769\n",
      "[405]\tvalid_0's multi_logloss: 0.727654\n",
      "[406]\tvalid_0's multi_logloss: 0.727545\n",
      "[407]\tvalid_0's multi_logloss: 0.727457\n",
      "[408]\tvalid_0's multi_logloss: 0.727335\n",
      "[409]\tvalid_0's multi_logloss: 0.72722\n",
      "[410]\tvalid_0's multi_logloss: 0.727094\n",
      "[411]\tvalid_0's multi_logloss: 0.726994\n",
      "[412]\tvalid_0's multi_logloss: 0.726919\n",
      "[413]\tvalid_0's multi_logloss: 0.726815\n",
      "[414]\tvalid_0's multi_logloss: 0.726723\n",
      "[415]\tvalid_0's multi_logloss: 0.726633\n",
      "[416]\tvalid_0's multi_logloss: 0.726525\n",
      "[417]\tvalid_0's multi_logloss: 0.726419\n",
      "[418]\tvalid_0's multi_logloss: 0.726334\n",
      "[419]\tvalid_0's multi_logloss: 0.726255\n",
      "[420]\tvalid_0's multi_logloss: 0.726172\n",
      "[421]\tvalid_0's multi_logloss: 0.726073\n",
      "[422]\tvalid_0's multi_logloss: 0.725975\n",
      "[423]\tvalid_0's multi_logloss: 0.725892\n",
      "[424]\tvalid_0's multi_logloss: 0.725839\n",
      "[425]\tvalid_0's multi_logloss: 0.725741\n",
      "[426]\tvalid_0's multi_logloss: 0.725614\n",
      "[427]\tvalid_0's multi_logloss: 0.725506\n",
      "[428]\tvalid_0's multi_logloss: 0.725429\n",
      "[429]\tvalid_0's multi_logloss: 0.725324\n",
      "[430]\tvalid_0's multi_logloss: 0.725241\n",
      "[431]\tvalid_0's multi_logloss: 0.725144\n",
      "[432]\tvalid_0's multi_logloss: 0.72502\n",
      "[433]\tvalid_0's multi_logloss: 0.724949\n",
      "[434]\tvalid_0's multi_logloss: 0.724888\n",
      "[435]\tvalid_0's multi_logloss: 0.724788\n",
      "[436]\tvalid_0's multi_logloss: 0.724673\n",
      "[437]\tvalid_0's multi_logloss: 0.72459\n",
      "[438]\tvalid_0's multi_logloss: 0.724514\n",
      "[439]\tvalid_0's multi_logloss: 0.724374\n",
      "[440]\tvalid_0's multi_logloss: 0.72426\n",
      "[441]\tvalid_0's multi_logloss: 0.724216\n",
      "[442]\tvalid_0's multi_logloss: 0.724152\n",
      "[443]\tvalid_0's multi_logloss: 0.724067\n",
      "[444]\tvalid_0's multi_logloss: 0.724009\n",
      "[445]\tvalid_0's multi_logloss: 0.723915\n",
      "[446]\tvalid_0's multi_logloss: 0.723778\n",
      "[447]\tvalid_0's multi_logloss: 0.723665\n",
      "[448]\tvalid_0's multi_logloss: 0.723569\n",
      "[449]\tvalid_0's multi_logloss: 0.723441\n",
      "[450]\tvalid_0's multi_logloss: 0.723363\n",
      "[451]\tvalid_0's multi_logloss: 0.723245\n",
      "[452]\tvalid_0's multi_logloss: 0.723131\n",
      "[453]\tvalid_0's multi_logloss: 0.723023\n",
      "[454]\tvalid_0's multi_logloss: 0.72291\n",
      "[455]\tvalid_0's multi_logloss: 0.722791\n",
      "[456]\tvalid_0's multi_logloss: 0.722681\n",
      "[457]\tvalid_0's multi_logloss: 0.722617\n",
      "[458]\tvalid_0's multi_logloss: 0.722525\n",
      "[459]\tvalid_0's multi_logloss: 0.722484\n",
      "[460]\tvalid_0's multi_logloss: 0.722438\n",
      "[461]\tvalid_0's multi_logloss: 0.722364\n",
      "[462]\tvalid_0's multi_logloss: 0.722249\n",
      "[463]\tvalid_0's multi_logloss: 0.722187\n",
      "[464]\tvalid_0's multi_logloss: 0.722091\n",
      "[465]\tvalid_0's multi_logloss: 0.721994\n",
      "[466]\tvalid_0's multi_logloss: 0.721898\n",
      "[467]\tvalid_0's multi_logloss: 0.721835\n",
      "[468]\tvalid_0's multi_logloss: 0.721729\n",
      "[469]\tvalid_0's multi_logloss: 0.721635\n",
      "[470]\tvalid_0's multi_logloss: 0.721557\n",
      "[471]\tvalid_0's multi_logloss: 0.721446\n",
      "[472]\tvalid_0's multi_logloss: 0.721356\n",
      "[473]\tvalid_0's multi_logloss: 0.72126\n",
      "[474]\tvalid_0's multi_logloss: 0.721165\n",
      "[475]\tvalid_0's multi_logloss: 0.721091\n",
      "[476]\tvalid_0's multi_logloss: 0.721031\n",
      "[477]\tvalid_0's multi_logloss: 0.721009\n",
      "[478]\tvalid_0's multi_logloss: 0.72092\n",
      "[479]\tvalid_0's multi_logloss: 0.720809\n",
      "[480]\tvalid_0's multi_logloss: 0.720691\n",
      "[481]\tvalid_0's multi_logloss: 0.720555\n",
      "[482]\tvalid_0's multi_logloss: 0.720455\n",
      "[483]\tvalid_0's multi_logloss: 0.720369\n",
      "[484]\tvalid_0's multi_logloss: 0.720288\n",
      "[485]\tvalid_0's multi_logloss: 0.720217\n",
      "[486]\tvalid_0's multi_logloss: 0.720135\n",
      "[487]\tvalid_0's multi_logloss: 0.720096\n",
      "[488]\tvalid_0's multi_logloss: 0.719982\n",
      "[489]\tvalid_0's multi_logloss: 0.719895\n",
      "[490]\tvalid_0's multi_logloss: 0.719823\n",
      "[491]\tvalid_0's multi_logloss: 0.719711\n",
      "[492]\tvalid_0's multi_logloss: 0.719607\n",
      "[493]\tvalid_0's multi_logloss: 0.719474\n",
      "[494]\tvalid_0's multi_logloss: 0.719385\n",
      "[495]\tvalid_0's multi_logloss: 0.719264\n",
      "[496]\tvalid_0's multi_logloss: 0.719211\n",
      "[497]\tvalid_0's multi_logloss: 0.719114\n",
      "[498]\tvalid_0's multi_logloss: 0.718978\n",
      "[499]\tvalid_0's multi_logloss: 0.718921\n",
      "[500]\tvalid_0's multi_logloss: 0.718856\n"
     ]
    },
    {
     "data": {
      "text/plain": [
       "0.636389622070694"
      ]
     },
     "execution_count": 13,
     "metadata": {},
     "output_type": "execute_result"
    }
   ],
   "source": [
    "from lightgbm import LGBMClassifier\n",
    "\n",
    "lgmb = LGBMClassifier(\n",
    "    device=\"gpu\",\n",
    "    learning_rate=0.03, # 0.01\n",
    "    num_leaves=20, # 30\n",
    "    max_depth=30,  # 40\n",
    "    objective=\"multiclass\",\n",
    "    class_weight='balanced',\n",
    "    n_estimators=500,\n",
    "    n_jobs=-1\n",
    ")\n",
    "\n",
    "lgmb.fit(\n",
    "    x_train,\n",
    "    y_train,\n",
    "    eval_set=(x_test, y_test),\n",
    "    eval_metric=\"logloss\",\n",
    "    verbose=1\n",
    ")\n",
    "lgb_preds = lgmb.predict(x_test)\n",
    "lgb_pred_labels = lgb_preds\n",
    "y_trues = y_test\n",
    "f1_macro = f1_score(y_trues, lgb_preds, average=\"macro\")\n",
    "f1_macro"
   ]
  },
  {
   "cell_type": "code",
   "execution_count": 184,
   "metadata": {},
   "outputs": [
    {
     "data": {
      "image/png": "[encoded data removed]",
      "text/plain": [
       "<matplotlib.figure.Figure at 0x7f4bbf644c88>"
      ]
     },
     "metadata": {},
     "output_type": "display_data"
    }
   ],
   "source": [
    "from plot_utils import plot_confusion_matrix\n",
    "\n",
    "label_names = list(df[\"task_type\"].unique())\n",
    "\n",
    "plot_confusion_matrix(list(map(int, y_trues)), lgb_pred_labels, sorted(label_names), normalize=True)"
   ]
  },
  {
   "cell_type": "markdown",
   "metadata": {},
   "source": [
    "# LogisticRegression"
   ]
  },
  {
   "cell_type": "code",
   "execution_count": 14,
   "metadata": {},
   "outputs": [],
   "source": [
    "from sklearn.linear_model import LogisticRegression\n",
    "\n",
    "logisticRegr = LogisticRegression(C=1, class_weight='balanced', multi_class='multinomial', max_iter=1000)\n",
    "logisticRegr.fit(x_train, y_train)\n",
    "y_pred=logisticRegr.predict(x_test)"
   ]
  },
  {
   "cell_type": "code",
   "execution_count": 15,
   "metadata": {},
   "outputs": [
    {
     "data": {
      "text/plain": [
       "0.6029199011422925"
      ]
     },
     "execution_count": 15,
     "metadata": {},
     "output_type": "execute_result"
    }
   ],
   "source": [
    "from sklearn.metrics import confusion_matrix, f1_score, precision_score, recall_score\n",
    "\n",
    "y_trues = y_test\n",
    "f1_macro = f1_score(y_trues, y_pred, average=\"macro\")\n",
    "f1_macro"
   ]
  },
  {
   "cell_type": "code",
   "execution_count": 187,
   "metadata": {},
   "outputs": [
    {
     "data": {
      "image/png": "[encoded data removed]",
      "text/plain": [
       "<matplotlib.figure.Figure at 0x7f4bbf9440f0>"
      ]
     },
     "metadata": {},
     "output_type": "display_data"
    }
   ],
   "source": [
    "from plot_utils import plot_confusion_matrix\n",
    "\n",
    "label_names = list(df[\"task_type\"].unique())\n",
    "\n",
    "plot_confusion_matrix(list(map(int, y_trues)), y_pred, sorted(label_names), normalize=True)"
   ]
  },
  {
   "cell_type": "markdown",
   "metadata": {},
   "source": [
    "# Parametrs Tuning"
   ]
  },
  {
   "cell_type": "code",
   "execution_count": 168,
   "metadata": {},
   "outputs": [],
   "source": [
    "from sklearn.pipeline import Pipeline\n",
    "from sklearn.model_selection import GridSearchCV\n",
    "from sklearn.preprocessing import StandardScaler"
   ]
  },
  {
   "cell_type": "code",
   "execution_count": 169,
   "metadata": {},
   "outputs": [],
   "source": [
    "solvers=['lbfgs', 'sag', 'saga','newton-cg']\n",
    "penalties=['l1', 'l2', 'elasticnet']\n",
    "C = [0.001, 0.01, 0.1, 1, 10, 100]"
   ]
  },
  {
   "cell_type": "code",
   "execution_count": 170,
   "metadata": {},
   "outputs": [
    {
     "name": "stdout",
     "output_type": "stream",
     "text": [
      "Fitting 3 folds for each of 72 candidates, totalling 216 fits\n"
     ]
    },
    {
     "name": "stderr",
     "output_type": "stream",
     "text": [
      "[Parallel(n_jobs=-1)]: Using backend LokyBackend with 4 concurrent workers.\n",
      "[Parallel(n_jobs=-1)]: Done  42 tasks      | elapsed:  1.4min\n",
      "[Parallel(n_jobs=-1)]: Done 192 tasks      | elapsed: 36.5min\n",
      "[Parallel(n_jobs=-1)]: Done 216 out of 216 | elapsed: 45.0min finished\n",
      "/home/tonko22/.virtualenvs/py37/lib/python3.7/site-packages/sklearn/linear_model/_sag.py:330: ConvergenceWarning: The max_iter was reached which means the coef_ did not converge\n",
      "  \"the coef_ did not converge\", ConvergenceWarning)\n"
     ]
    },
    {
     "data": {
      "text/plain": [
       "0.6077593290449411"
      ]
     },
     "execution_count": 170,
     "metadata": {},
     "output_type": "execute_result"
    }
   ],
   "source": [
    "pipe = Pipeline([('scaller',StandardScaler()),('classifier', LogisticRegression(class_weight='balanced', multi_class='multinomial', max_iter=500))])\n",
    "\n",
    "param_grid = [\n",
    "    {\n",
    "    'classifier__penalty' : penalties,\n",
    "    'classifier__C' : C,\n",
    "    'classifier__solver' : solvers\n",
    "    }    \n",
    "]\n",
    "\n",
    "# Create grid search object\n",
    "\n",
    "clf = GridSearchCV(pipe, param_grid = param_grid, cv = 3, verbose=True, n_jobs=-1)\n",
    "\n",
    "# Fit on data\n",
    "\n",
    "best_clf = clf.fit(x_train, y_train)\n",
    "best_clf.best_score_"
   ]
  },
  {
   "cell_type": "code",
   "execution_count": 591,
   "metadata": {},
   "outputs": [
    {
     "data": {
      "text/plain": [
       "{'classifier__C': 0.1,\n",
       " 'classifier__penalty': 'l2',\n",
       " 'classifier__solver': 'lbfgs'}"
      ]
     },
     "execution_count": 591,
     "metadata": {},
     "output_type": "execute_result"
    }
   ],
   "source": [
    "best_clf.best_params_"
   ]
  },
  {
   "cell_type": "markdown",
   "metadata": {},
   "source": [
    "# LightGBM Tuning"
   ]
  },
  {
   "cell_type": "code",
   "execution_count": null,
   "metadata": {},
   "outputs": [],
   "source": [
    "from lightgbm import LGBMClassifier\n",
    "import numpy as np\n",
    "from sklearn.metrics import f1_score\n",
    "\n",
    "lgmb = LGBMClassifier(\n",
    "    device=\"gpu\",\n",
    "    learning_rate=0.05, # 0.01\n",
    "    num_leaves=26, # 30\n",
    "    max_depth=35,  # 40\n",
    "    objective=\"multiclass\",\n",
    "    class_weight='balanced',\n",
    "    n_estimators=800,\n",
    "    n_jobs=-1\n",
    ")\n",
    "\n",
    "lgmb.fit(\n",
    "    x_train,\n",
    "    y_train,\n",
    "    eval_set=(x_test, y_test),\n",
    "    eval_metric=\"logloss\",\n",
    "    verbose=1\n",
    ")\n",
    "lgb_preds = lgmb.predict(x_test)\n",
    "lgb_pred_labels = lgb_preds\n",
    "y_trues = y_test\n",
    "f1_macro = f1_score(y_trues, lgb_preds, average=\"macro\")\n",
    "f1_macro"
   ]
  },
  {
   "cell_type": "code",
   "execution_count": 194,
   "metadata": {},
   "outputs": [
    {
     "data": {
      "text/plain": [
       "array([2, 2, 1, ..., 2, 2, 1])"
      ]
     },
     "execution_count": 194,
     "metadata": {},
     "output_type": "execute_result"
    }
   ],
   "source": [
    "lgb_preds"
   ]
  },
  {
   "cell_type": "code",
   "execution_count": 230,
   "metadata": {},
   "outputs": [],
   "source": [
    "df_path = \"data/df_first.pkl\"\n",
    "df_first = pd.read_pickle(df_path).reset_index(drop=True)"
   ]
  },
  {
   "cell_type": "code",
   "execution_count": 231,
   "metadata": {},
   "outputs": [],
   "source": [
    "lgb_preds_series=pd.Series(le.inverse_transform(lgb_preds), index=y_test.index)"
   ]
  },
  {
   "cell_type": "code",
   "execution_count": 232,
   "metadata": {},
   "outputs": [],
   "source": [
    "lgb_preds_series.name='y_pred_class_name'"
   ]
  },
  {
   "cell_type": "code",
   "execution_count": 234,
   "metadata": {},
   "outputs": [],
   "source": [
    "False_Table = df.iloc[y_test[y_test!=lgb_pred_labels].index] #таблица с неправильно предсказ"
   ]
  },
  {
   "cell_type": "code",
   "execution_count": null,
   "metadata": {},
   "outputs": [],
   "source": [
    "False_Table[\"y_past_class_name\"]=df_first.task_type[y_test[y_test!=lgb_pred_labels].index] # добавление для другое с неправ предсказ"
   ]
  },
  {
   "cell_type": "code",
   "execution_count": 236,
   "metadata": {},
   "outputs": [
    {
     "data": {
      "text/plain": [
       "7039"
      ]
     },
     "execution_count": 236,
     "metadata": {},
     "output_type": "execute_result"
    }
   ],
   "source": [
    "len(False_Table)"
   ]
  },
  {
   "cell_type": "code",
   "execution_count": 237,
   "metadata": {},
   "outputs": [],
   "source": [
    "False_Table=False_Table.join(lgb_preds_series)"
   ]
  },
  {
   "cell_type": "code",
   "execution_count": 238,
   "metadata": {},
   "outputs": [
    {
     "data": {
      "text/plain": [
       "Index(['subject', 'description', 'task_id', 'date', 'org', 'uid', 'task_type',\n",
       "       'year', 'split_description', 'bool_split_description',\n",
       "       'description_merge', 'task_type_int64', 'embedings',\n",
       "       'y_past_class_name', 'y_pred_class_name'],\n",
       "      dtype='object')"
      ]
     },
     "execution_count": 238,
     "metadata": {},
     "output_type": "execute_result"
    }
   ],
   "source": [
    "False_Table.columns"
   ]
  },
  {
   "cell_type": "code",
   "execution_count": 241,
   "metadata": {},
   "outputs": [],
   "source": [
    "Mistake_Table=False_Table[[\"description\", \"task_type\", \"y_pred_class_name\", \"year\", \"y_past_class_name\"]]"
   ]
  },
  {
   "cell_type": "code",
   "execution_count": 245,
   "metadata": {},
   "outputs": [
    {
     "data": {
      "text/html": [
       "<div>\n",
       "<style scoped>\n",
       "    .dataframe tbody tr th:only-of-type {\n",
       "        vertical-align: middle;\n",
       "    }\n",
       "\n",
       "    .dataframe tbody tr th {\n",
       "        vertical-align: top;\n",
       "    }\n",
       "\n",
       "    .dataframe thead th {\n",
       "        text-align: right;\n",
       "    }\n",
       "</style>\n",
       "<table border=\"1\" class=\"dataframe\">\n",
       "  <thead>\n",
       "    <tr style=\"text-align: right;\">\n",
       "      <th></th>\n",
       "      <th>description</th>\n",
       "      <th>task_type</th>\n",
       "      <th>y_pred_class_name</th>\n",
       "      <th>y_past_class_name</th>\n",
       "    </tr>\n",
       "    <tr>\n",
       "      <th>year</th>\n",
       "      <th></th>\n",
       "      <th></th>\n",
       "      <th></th>\n",
       "      <th></th>\n",
       "    </tr>\n",
       "  </thead>\n",
       "  <tbody>\n",
       "    <tr>\n",
       "      <th>2012</th>\n",
       "      <td>678</td>\n",
       "      <td>678</td>\n",
       "      <td>678</td>\n",
       "      <td>678</td>\n",
       "    </tr>\n",
       "    <tr>\n",
       "      <th>2013</th>\n",
       "      <td>914</td>\n",
       "      <td>914</td>\n",
       "      <td>914</td>\n",
       "      <td>914</td>\n",
       "    </tr>\n",
       "    <tr>\n",
       "      <th>2014</th>\n",
       "      <td>740</td>\n",
       "      <td>740</td>\n",
       "      <td>740</td>\n",
       "      <td>740</td>\n",
       "    </tr>\n",
       "    <tr>\n",
       "      <th>2015</th>\n",
       "      <td>717</td>\n",
       "      <td>717</td>\n",
       "      <td>717</td>\n",
       "      <td>717</td>\n",
       "    </tr>\n",
       "    <tr>\n",
       "      <th>2016</th>\n",
       "      <td>677</td>\n",
       "      <td>677</td>\n",
       "      <td>677</td>\n",
       "      <td>677</td>\n",
       "    </tr>\n",
       "    <tr>\n",
       "      <th>2017</th>\n",
       "      <td>860</td>\n",
       "      <td>860</td>\n",
       "      <td>860</td>\n",
       "      <td>860</td>\n",
       "    </tr>\n",
       "    <tr>\n",
       "      <th>2018</th>\n",
       "      <td>822</td>\n",
       "      <td>822</td>\n",
       "      <td>822</td>\n",
       "      <td>822</td>\n",
       "    </tr>\n",
       "    <tr>\n",
       "      <th>2019</th>\n",
       "      <td>645</td>\n",
       "      <td>645</td>\n",
       "      <td>645</td>\n",
       "      <td>645</td>\n",
       "    </tr>\n",
       "    <tr>\n",
       "      <th>2020</th>\n",
       "      <td>690</td>\n",
       "      <td>690</td>\n",
       "      <td>690</td>\n",
       "      <td>690</td>\n",
       "    </tr>\n",
       "    <tr>\n",
       "      <th>2021</th>\n",
       "      <td>296</td>\n",
       "      <td>296</td>\n",
       "      <td>296</td>\n",
       "      <td>296</td>\n",
       "    </tr>\n",
       "  </tbody>\n",
       "</table>\n",
       "</div>"
      ],
      "text/plain": [
       "      description  task_type  y_pred_class_name  y_past_class_name\n",
       "year                                                              \n",
       "2012          678        678                678                678\n",
       "2013          914        914                914                914\n",
       "2014          740        740                740                740\n",
       "2015          717        717                717                717\n",
       "2016          677        677                677                677\n",
       "2017          860        860                860                860\n",
       "2018          822        822                822                822\n",
       "2019          645        645                645                645\n",
       "2020          690        690                690                690\n",
       "2021          296        296                296                296"
      ]
     },
     "execution_count": 245,
     "metadata": {},
     "output_type": "execute_result"
    }
   ],
   "source": [
    "Mistake_Table.groupby(\"year\").count()"
   ]
  },
  {
   "cell_type": "code",
   "execution_count": 56,
   "metadata": {},
   "outputs": [
    {
     "data": {
      "text/plain": [
       "Int64Index([79648, 17458, 58544, 71122, 59444, 59899, 55968,   281, 65769,\n",
       "            59174,\n",
       "            ...\n",
       "            28647, 27120, 48634, 64575, 31164, 80382,   651, 56637, 47519,\n",
       "            49264],\n",
       "           dtype='int64', length=7044)"
      ]
     },
     "execution_count": 56,
     "metadata": {},
     "output_type": "execute_result"
    }
   ],
   "source": [
    "y_test[y_test!=lgb_pred_labels].index"
   ]
  },
  {
   "cell_type": "code",
   "execution_count": 43,
   "metadata": {},
   "outputs": [],
   "source": [
    "from lightgbm import LGBMClassifier\n",
    "import numpy as np\n",
    "from sklearn.metrics import f1_score\n",
    "from sklearn.pipeline import Pipeline\n",
    "from sklearn.model_selection import GridSearchCV"
   ]
  },
  {
   "cell_type": "code",
   "execution_count": 61,
   "metadata": {},
   "outputs": [],
   "source": [
    "learning_rates=np.arange(0.01, 0.06, 0.01)\n",
    "num_leaves=list(range(2, 31, 6))\n",
    "boosting_types=['gbdt', 'dart'] \n",
    "n_estimators=list(range(200, 801, 200))\n",
    "max_depth=list(range(10, 51, 25))"
   ]
  },
  {
   "cell_type": "code",
   "execution_count": null,
   "metadata": {},
   "outputs": [],
   "source": [
    "pipe = Pipeline([('classifier', LGBMClassifier(objective=\"multiclass\", class_weight='balanced', n_jobs=-1, \n",
    "                                               early_stopping_round=20,device='gpu', max_bin=63))])\n",
    "\n",
    "param_grid = [\n",
    "    {\n",
    "    'classifier__learning_rate' : learning_rates,\n",
    "    'classifier__num_leaves' : num_leaves,\n",
    "    'classifier__boosting_types' : boosting_types,\n",
    "    'classifier__n_estimators' : n_estimators,\n",
    "    'classifier__max_depth' : max_depth,\n",
    "    }    \n",
    "]\n",
    "\n",
    "clf = GridSearchCV(pipe, param_grid = param_grid, cv = 3, verbose=True, n_jobs=-1, scoring='f1_macro')\n",
    "clf.fit(x_train_features, y_train, classifier__eval_set=(x_test_features, y_test), classifier__eval_metric=\"logloss\", classifier__verbose=1)\n",
    "clf.best_score_"
   ]
  },
  {
   "cell_type": "code",
   "execution_count": 63,
   "metadata": {},
   "outputs": [],
   "source": [
    "#0.6574612716251728"
   ]
  },
  {
   "cell_type": "code",
   "execution_count": 64,
   "metadata": {},
   "outputs": [
    {
     "data": {
      "text/plain": [
       "{'classifier__boosting_types': 'dart',\n",
       " 'classifier__learning_rate': 0.05,\n",
       " 'classifier__max_depth': 35,\n",
       " 'classifier__n_estimators': 800,\n",
       " 'classifier__num_leaves': 26}"
      ]
     },
     "execution_count": 64,
     "metadata": {},
     "output_type": "execute_result"
    }
   ],
   "source": [
    "clf.best_params_"
   ]
  },
  {
   "cell_type": "code",
   "execution_count": null,
   "metadata": {},
   "outputs": [],
   "source": []
  }
 ],
 "metadata": {
  "kernelspec": {
   "display_name": "Python 3",
   "language": "python",
   "name": "python3"
  },
  "language_info": {
   "codemirror_mode": {
    "name": "ipython",
    "version": 3
   },
   "file_extension": ".py",
   "mimetype": "text/x-python",
   "name": "python",
   "nbconvert_exporter": "python",
   "pygments_lexer": "ipython3",
   "version": "3.7.0"
  }
 },
 "nbformat": 4,
 "nbformat_minor": 2
}
