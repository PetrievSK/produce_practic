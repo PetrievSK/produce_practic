{
 "cells": [
  {
   "cell_type": "code",
   "execution_count": 1,
   "metadata": {},
   "outputs": [],
   "source": [
    "import pandas as pd\n",
    "import numpy as np\n",
    "import re\n",
    "#from model_adapter import FeatureExtractor"
   ]
  },
  {
   "cell_type": "code",
   "execution_count": 2,
   "metadata": {},
   "outputs": [
    {
     "data": {
      "text/plain": [
       "Обслуживание    48559\n",
       "Инцидент        23788\n",
       "Изменение        9427\n",
       "Продажа          2510\n",
       "Name: task_type, dtype: int64"
      ]
     },
     "execution_count": 2,
     "metadata": {},
     "output_type": "execute_result"
    }
   ],
   "source": [
    "df_path = \"data/df_raw.pkl\"\n",
    "df = pd.read_pickle(df_path).reset_index(drop=True)\n",
    "df.task_type.value_counts()"
   ]
  },
  {
   "cell_type": "code",
   "execution_count": 3,
   "metadata": {},
   "outputs": [
    {
     "data": {
      "text/plain": [
       "84284"
      ]
     },
     "execution_count": 3,
     "metadata": {},
     "output_type": "execute_result"
    }
   ],
   "source": [
    "len(df)"
   ]
  },
  {
   "cell_type": "code",
   "execution_count": 8,
   "metadata": {},
   "outputs": [
    {
     "data": {
      "text/html": [
       "<div>\n",
       "<style scoped>\n",
       "    .dataframe tbody tr th:only-of-type {\n",
       "        vertical-align: middle;\n",
       "    }\n",
       "\n",
       "    .dataframe tbody tr th {\n",
       "        vertical-align: top;\n",
       "    }\n",
       "\n",
       "    .dataframe thead th {\n",
       "        text-align: right;\n",
       "    }\n",
       "</style>\n",
       "<table border=\"1\" class=\"dataframe\">\n",
       "  <thead>\n",
       "    <tr style=\"text-align: right;\">\n",
       "      <th></th>\n",
       "      <th>subject</th>\n",
       "      <th>description</th>\n",
       "      <th>date</th>\n",
       "      <th>org</th>\n",
       "      <th>task_type</th>\n",
       "      <th>year</th>\n",
       "    </tr>\n",
       "  </thead>\n",
       "  <tbody>\n",
       "    <tr>\n",
       "      <th>0</th>\n",
       "      <td>комп 947</td>\n",
       "      <td>не работает скайп комп 947\\n\\nПользователь Кир...</td>\n",
       "      <td>4013-03-06 17:33:49</td>\n",
       "      <td>Менеджеры техподдержки</td>\n",
       "      <td>Изменение</td>\n",
       "      <td>2013</td>\n",
       "    </tr>\n",
       "    <tr>\n",
       "      <th>1</th>\n",
       "      <td>Массовая рассылка(Quick Sales)</td>\n",
       "      <td>Рассмотерть возможность массовой рассылки чере...</td>\n",
       "      <td>4013-03-06 17:47:23</td>\n",
       "      <td>Менеджеры техподдержки</td>\n",
       "      <td>Изменение</td>\n",
       "      <td>2013</td>\n",
       "    </tr>\n",
       "    <tr>\n",
       "      <th>2</th>\n",
       "      <td>Корпорация СКИП</td>\n",
       "      <td>Завести клиента ЗАО «Корпорация СКИП» \\n109428...</td>\n",
       "      <td>4013-03-07 09:56:01</td>\n",
       "      <td>SD</td>\n",
       "      <td>Обслуживание</td>\n",
       "      <td>2013</td>\n",
       "    </tr>\n",
       "    <tr>\n",
       "      <th>3</th>\n",
       "      <td>tserv</td>\n",
       "      <td>Тормозит tserv\\n\\nЛожкин Кирилл Александрович\\...</td>\n",
       "      <td>4013-03-07 10:09:11</td>\n",
       "      <td>Инженеры техподдержки</td>\n",
       "      <td>Изменение</td>\n",
       "      <td>2013</td>\n",
       "    </tr>\n",
       "    <tr>\n",
       "      <th>4</th>\n",
       "      <td>Outlook</td>\n",
       "      <td>При ответе на письмо и вставки таблицы из Exce...</td>\n",
       "      <td>4013-03-07 11:19:29</td>\n",
       "      <td>Менеджеры техподдержки</td>\n",
       "      <td>Изменение</td>\n",
       "      <td>2013</td>\n",
       "    </tr>\n",
       "  </tbody>\n",
       "</table>\n",
       "</div>"
      ],
      "text/plain": [
       "                          subject  \\\n",
       "0                        комп 947   \n",
       "1  Массовая рассылка(Quick Sales)   \n",
       "2                 Корпорация СКИП   \n",
       "3                           tserv   \n",
       "4                         Outlook   \n",
       "\n",
       "                                         description                 date  \\\n",
       "0  не работает скайп комп 947\\n\\nПользователь Кир...  4013-03-06 17:33:49   \n",
       "1  Рассмотерть возможность массовой рассылки чере...  4013-03-06 17:47:23   \n",
       "2  Завести клиента ЗАО «Корпорация СКИП» \\n109428...  4013-03-07 09:56:01   \n",
       "3  Тормозит tserv\\n\\nЛожкин Кирилл Александрович\\...  4013-03-07 10:09:11   \n",
       "4  При ответе на письмо и вставки таблицы из Exce...  4013-03-07 11:19:29   \n",
       "\n",
       "                      org     task_type  year  \n",
       "0  Менеджеры техподдержки     Изменение  2013  \n",
       "1  Менеджеры техподдержки     Изменение  2013  \n",
       "2                      SD  Обслуживание  2013  \n",
       "3   Инженеры техподдержки     Изменение  2013  \n",
       "4  Менеджеры техподдержки     Изменение  2013  "
      ]
     },
     "execution_count": 8,
     "metadata": {},
     "output_type": "execute_result"
    }
   ],
   "source": [
    "df.drop([\"uid\",\"task_id\"],axis=1).head()"
   ]
  },
  {
   "cell_type": "code",
   "execution_count": 29,
   "metadata": {},
   "outputs": [
    {
     "data": {
      "text/plain": [
       "'Проблема с базой АВИ БП\\nДобрый день.\\r\\n \\r\\nВ базе 1С АВИ БП слетел начисленный аванс по налогу по УСН за 1 квартал 2019\\r\\nг. - вместо 19 тысяч, которые и были уплачены, теперь показывает 37 тысяч.\\r\\nТакое могло случиться из-за изменений, внесенных задним числом в 1 квартал в\\r\\nУНФ и при синхронизации их с БП. Хотя дата запрета изменений в АВИ БП всегда\\r\\nстояла 31.03.2019.\\r\\nПросьба разобраться в ситуации и вернуть прежнее начисление.\\r\\n \\r\\n \\r\\n \\r\\nС Уважением,\\r\\n \\r\\n <http://www.aviconsult.ru/> cid:image001.png@01D21276.9FB3D750\\r\\nКапштык Святослав Евгеньевич\\r\\nБухгалтер\\r\\nООО <АВИ Консалт>'"
      ]
     },
     "execution_count": 29,
     "metadata": {},
     "output_type": "execute_result"
    }
   ],
   "source": [
    "df[\"description\"].sample(3).iloc[0]"
   ]
  },
  {
   "cell_type": "code",
   "execution_count": 30,
   "metadata": {},
   "outputs": [
    {
     "data": {
      "text/plain": [
       "0    {, Телефон, не, (Рабочий, 947, (Мобильный, \\t7...\n",
       "1    {поздравления, , Телефон, (Рабочий, массовой, ...\n",
       "2    {, www.zao-skip.ru, Телефон, Рязанский, Сергей...\n",
       "Name: split_description, dtype: object"
      ]
     },
     "execution_count": 30,
     "metadata": {},
     "output_type": "execute_result"
    }
   ],
   "source": [
    "df[\"split_description\"] = df['description'].apply(lambda x: set(re.split('\\n| ', x)))\n",
    "df[\"split_description\"].head(3)"
   ]
  },
  {
   "cell_type": "code",
   "execution_count": 31,
   "metadata": {},
   "outputs": [],
   "source": [
    "#dfcopy=df.copy()\n",
    "def subset (sub : set):\n",
    "    return {'Инициатор','Клиент:','Направление:','Приоритет:'}"
   ]
  },
  {
   "cell_type": "code",
   "execution_count": 35,
   "metadata": {},
   "outputs": [
    {
     "data": {
      "text/plain": [
       "0    НЕ РАБОТАЕТ СКАЙП КОМП 947\\n\\nПОЛЬЗОВАТЕЛЬ КИР...\n",
       "1    РАССМОТЕРТЬ ВОЗМОЖНОСТЬ МАССОВОЙ РАССЫЛКИ ЧЕРЕ...\n",
       "2    ЗАВЕСТИ КЛИЕНТА ЗАО «КОРПОРАЦИЯ СКИП» \\n109428...\n",
       "3    ТОРМОЗИТ TSERV\\n\\nЛОЖКИН КИРИЛЛ АЛЕКСАНДРОВИЧ\\...\n",
       "4    ПРИ ОТВЕТЕ НА ПИСЬМО И ВСТАВКИ ТАБЛИЦЫ ИЗ EXCE...\n",
       "5    ПРИ ПОПЫТКЕ ОТКРЫТЬ ПРИКРЕПЛЕННЫЙ ФАЙЛ ВЫДАЕТС...\n",
       "6    ПРОШУ ДАТЬ ДОСТУП ЧТЕНИИ/ЗАПИСЬ ПОЛЬЗОВАТЕЛЮ V...\n",
       "7    НЕ РАБОТАЕТ АМАДЕУС.\\n\\nПЛАТОНОВА ЕЛЕНА\\n\\nE-M...\n",
       "8    В ДАННЫЙ МОМЕНТ ДОСТУП НАСТРОЕН 194.67.159.246...\n",
       "9    НА ПОЧТЕ В GMAIL ПРИ НАБОРЕ ТЕКСТА ПРОСТАВЛЯЮТ...\n",
       "Name: description, dtype: object"
      ]
     },
     "execution_count": 35,
     "metadata": {},
     "output_type": "execute_result"
    }
   ],
   "source": [
    "fn_list = [str.lower, str.upper]\n",
    "\n",
    "def pipeline(text, fn_list):\n",
    "    # fn_list = [str.to_lower, str.upper]\n",
    "    for fn in fn_list:\n",
    "        text = fn(text)\n",
    "    return text\n",
    "\n",
    "df['description'].iloc[:10].apply(pipeline, fn_list=fn_list)"
   ]
  },
  {
   "cell_type": "code",
   "execution_count": 32,
   "metadata": {},
   "outputs": [],
   "source": [
    "def subset(sub : set):\n",
    "    return {'Инициатор:','Клиент:','Направление:','Приоритет:'}.issubset(sub)"
   ]
  },
  {
   "cell_type": "code",
   "execution_count": 33,
   "metadata": {},
   "outputs": [],
   "source": [
    "df[\"bool_split_description\"] = df[\"split_description\"].apply(subset)"
   ]
  },
  {
   "cell_type": "code",
   "execution_count": 39,
   "metadata": {},
   "outputs": [
    {
     "data": {
      "text/plain": [
       "0    False\n",
       "1    False\n",
       "2    False\n",
       "Name: bool_split_description, dtype: bool"
      ]
     },
     "execution_count": 39,
     "metadata": {},
     "output_type": "execute_result"
    }
   ],
   "source": [
    "df[\"bool_split_description\"].head(3)"
   ]
  },
  {
   "cell_type": "code",
   "execution_count": 34,
   "metadata": {},
   "outputs": [
    {
     "data": {
      "text/html": [
       "<div>\n",
       "<style scoped>\n",
       "    .dataframe tbody tr th:only-of-type {\n",
       "        vertical-align: middle;\n",
       "    }\n",
       "\n",
       "    .dataframe tbody tr th {\n",
       "        vertical-align: top;\n",
       "    }\n",
       "\n",
       "    .dataframe thead th {\n",
       "        text-align: right;\n",
       "    }\n",
       "</style>\n",
       "<table border=\"1\" class=\"dataframe\">\n",
       "  <thead>\n",
       "    <tr style=\"text-align: right;\">\n",
       "      <th></th>\n",
       "      <th>subject</th>\n",
       "      <th>description</th>\n",
       "      <th>task_id</th>\n",
       "      <th>date</th>\n",
       "      <th>org</th>\n",
       "      <th>uid</th>\n",
       "      <th>task_type</th>\n",
       "      <th>year</th>\n",
       "      <th>split_description</th>\n",
       "    </tr>\n",
       "    <tr>\n",
       "      <th>bool_split_description</th>\n",
       "      <th></th>\n",
       "      <th></th>\n",
       "      <th></th>\n",
       "      <th></th>\n",
       "      <th></th>\n",
       "      <th></th>\n",
       "      <th></th>\n",
       "      <th></th>\n",
       "      <th></th>\n",
       "    </tr>\n",
       "  </thead>\n",
       "  <tbody>\n",
       "    <tr>\n",
       "      <th>False</th>\n",
       "      <td>83845</td>\n",
       "      <td>83845</td>\n",
       "      <td>83845</td>\n",
       "      <td>83845</td>\n",
       "      <td>83845</td>\n",
       "      <td>83845</td>\n",
       "      <td>83845</td>\n",
       "      <td>83845</td>\n",
       "      <td>83845</td>\n",
       "    </tr>\n",
       "    <tr>\n",
       "      <th>True</th>\n",
       "      <td>439</td>\n",
       "      <td>439</td>\n",
       "      <td>439</td>\n",
       "      <td>439</td>\n",
       "      <td>439</td>\n",
       "      <td>439</td>\n",
       "      <td>439</td>\n",
       "      <td>439</td>\n",
       "      <td>439</td>\n",
       "    </tr>\n",
       "  </tbody>\n",
       "</table>\n",
       "</div>"
      ],
      "text/plain": [
       "                        subject  description  task_id   date    org    uid  \\\n",
       "bool_split_description                                                       \n",
       "False                     83845        83845    83845  83845  83845  83845   \n",
       "True                        439          439      439    439    439    439   \n",
       "\n",
       "                        task_type   year  split_description  \n",
       "bool_split_description                                       \n",
       "False                       83845  83845              83845  \n",
       "True                          439    439                439  "
      ]
     },
     "execution_count": 34,
     "metadata": {},
     "output_type": "execute_result"
    }
   ],
   "source": [
    "df.groupby('bool_split_description').count()"
   ]
  },
  {
   "cell_type": "code",
   "execution_count": 35,
   "metadata": {},
   "outputs": [
    {
     "data": {
      "text/plain": [
       "439"
      ]
     },
     "execution_count": 35,
     "metadata": {},
     "output_type": "execute_result"
    }
   ],
   "source": [
    "len(df[df.bool_split_description == True])"
   ]
  },
  {
   "cell_type": "code",
   "execution_count": 36,
   "metadata": {},
   "outputs": [
    {
     "data": {
      "text/plain": [
       "83845"
      ]
     },
     "execution_count": 36,
     "metadata": {},
     "output_type": "execute_result"
    }
   ],
   "source": [
    "df=df[df.bool_split_description == False]\n",
    "len(df)"
   ]
  },
  {
   "cell_type": "code",
   "execution_count": 37,
   "metadata": {},
   "outputs": [
    {
     "data": {
      "text/plain": [
       "array(['Изменение', 'Обслуживание', 'Инцидент', 'Продажа'], dtype=object)"
      ]
     },
     "execution_count": 37,
     "metadata": {},
     "output_type": "execute_result"
    }
   ],
   "source": [
    "df.task_type.unique()"
   ]
  },
  {
   "cell_type": "code",
   "execution_count": 38,
   "metadata": {},
   "outputs": [],
   "source": [
    "df[\"description_merge\"]=df.apply(lambda row: FeatureExtractor.merge_text(row['subject'], row['description']), axis=1)"
   ]
  },
  {
   "cell_type": "code",
   "execution_count": 39,
   "metadata": {},
   "outputs": [],
   "source": [
    " df.to_pickle('data/df_first.pkl')"
   ]
  }
 ],
 "metadata": {
  "kernelspec": {
   "display_name": "Python 3",
   "language": "python",
   "name": "python3"
  },
  "language_info": {
   "codemirror_mode": {
    "name": "ipython",
    "version": 3
   },
   "file_extension": ".py",
   "mimetype": "text/x-python",
   "name": "python",
   "nbconvert_exporter": "python",
   "pygments_lexer": "ipython3",
   "version": "3.7.0"
  }
 },
 "nbformat": 4,
 "nbformat_minor": 2
}
